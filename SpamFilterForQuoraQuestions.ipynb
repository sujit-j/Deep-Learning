{
  "nbformat": 4,
  "nbformat_minor": 0,
  "metadata": {
    "colab": {
      "name": "SpamFilterForQuoraQuestions.ipynb",
      "provenance": [],
      "collapsed_sections": [],
      "authorship_tag": "ABX9TyM0TcVy6iV+Jo3hhFMW/No3",
      "include_colab_link": true
    },
    "kernelspec": {
      "name": "python3",
      "display_name": "Python 3"
    },
    "language_info": {
      "name": "python"
    }
  },
  "cells": [
    {
      "cell_type": "markdown",
      "metadata": {
        "id": "view-in-github",
        "colab_type": "text"
      },
      "source": [
        "<a href=\"https://colab.research.google.com/github/sujit-j/Deep-Learning/blob/main/SpamFilterForQuoraQuestions.ipynb\" target=\"_parent\"><img src=\"https://colab.research.google.com/assets/colab-badge.svg\" alt=\"Open In Colab\"/></a>"
      ]
    },
    {
      "cell_type": "code",
      "metadata": {
        "id": "c4kLKO2OedL5"
      },
      "source": [
        "import pandas as pd\n",
        "import numpy as np"
      ],
      "execution_count": 1,
      "outputs": []
    },
    {
      "cell_type": "code",
      "metadata": {
        "colab": {
          "base_uri": "https://localhost:8080/"
        },
        "id": "I1_47qjxej03",
        "outputId": "11111643-b98a-4674-8bd8-556a97e5afd6"
      },
      "source": [
        "!wget https://www.dropbox.com/sh/kpf9z73woodfssv/AAAw1_JIzpuVvwteJCma0xMla?dl=0"
      ],
      "execution_count": 2,
      "outputs": [
        {
          "output_type": "stream",
          "text": [
            "--2021-07-13 08:36:54--  https://www.dropbox.com/sh/kpf9z73woodfssv/AAAw1_JIzpuVvwteJCma0xMla?dl=0\n",
            "Resolving www.dropbox.com (www.dropbox.com)... 162.125.1.18, 2620:100:6016:18::a27d:112\n",
            "Connecting to www.dropbox.com (www.dropbox.com)|162.125.1.18|:443... connected.\n",
            "HTTP request sent, awaiting response... 301 Moved Permanently\n",
            "Location: /sh/raw/kpf9z73woodfssv/AAAw1_JIzpuVvwteJCma0xMla [following]\n",
            "--2021-07-13 08:36:54--  https://www.dropbox.com/sh/raw/kpf9z73woodfssv/AAAw1_JIzpuVvwteJCma0xMla\n",
            "Reusing existing connection to www.dropbox.com:443.\n",
            "HTTP request sent, awaiting response... 302 Found\n",
            "Location: https://ucbea57a6d5fc657c1439a92a7ab.dl.dropboxusercontent.com/zip_download_get/A1nmoCEvtbuO4cHJwyE5N_cqQehs1UbBqoT_PRH9cV9Y7rOVtmO_MOQoSv9LQ87cf9vYdN5VBtX9Thd7BzPfZvStqqh0GoGdi3rVdAjJSW1B1g# [following]\n",
            "--2021-07-13 08:36:54--  https://ucbea57a6d5fc657c1439a92a7ab.dl.dropboxusercontent.com/zip_download_get/A1nmoCEvtbuO4cHJwyE5N_cqQehs1UbBqoT_PRH9cV9Y7rOVtmO_MOQoSv9LQ87cf9vYdN5VBtX9Thd7BzPfZvStqqh0GoGdi3rVdAjJSW1B1g\n",
            "Resolving ucbea57a6d5fc657c1439a92a7ab.dl.dropboxusercontent.com (ucbea57a6d5fc657c1439a92a7ab.dl.dropboxusercontent.com)... 162.125.1.15, 2620:100:6016:15::a27d:10f\n",
            "Connecting to ucbea57a6d5fc657c1439a92a7ab.dl.dropboxusercontent.com (ucbea57a6d5fc657c1439a92a7ab.dl.dropboxusercontent.com)|162.125.1.15|:443... connected.\n",
            "HTTP request sent, awaiting response... 200 OK\n",
            "Length: 124206982 (118M) [application/zip]\n",
            "Saving to: ‘AAAw1_JIzpuVvwteJCma0xMla?dl=0’\n",
            "\n",
            "AAAw1_JIzpuVvwteJCm 100%[===================>] 118.45M   157MB/s    in 0.8s    \n",
            "\n",
            "2021-07-13 08:36:56 (157 MB/s) - ‘AAAw1_JIzpuVvwteJCma0xMla?dl=0’ saved [124206982/124206982]\n",
            "\n"
          ],
          "name": "stdout"
        }
      ]
    },
    {
      "cell_type": "code",
      "metadata": {
        "colab": {
          "base_uri": "https://localhost:8080/"
        },
        "id": "ShCWg-XUeoi3",
        "outputId": "4c732033-5d4c-405f-b49e-43be8887d4a0"
      },
      "source": [
        "!unzip /content/AAAw1_JIzpuVvwteJCma0xMla?dl=0"
      ],
      "execution_count": 3,
      "outputs": [
        {
          "output_type": "stream",
          "text": [
            "Archive:  /content/AAAw1_JIzpuVvwteJCma0xMla?dl=0\n",
            "warning:  stripped absolute path spec from /\n",
            "mapname:  conversion of  failed\n",
            " extracting: train.csv               \n",
            "\n",
            "1 archive had fatal errors.\n"
          ],
          "name": "stdout"
        }
      ]
    },
    {
      "cell_type": "code",
      "metadata": {
        "id": "Cl53vYxcexo2"
      },
      "source": [
        "data = pd.read_csv(r\"/content/train.csv\")"
      ],
      "execution_count": 4,
      "outputs": []
    },
    {
      "cell_type": "code",
      "metadata": {
        "colab": {
          "base_uri": "https://localhost:8080/",
          "height": 203
        },
        "id": "YmZuCf5we2Gq",
        "outputId": "6692614b-bc6b-4cc2-93a3-8c5d15384f31"
      },
      "source": [
        "data.head()"
      ],
      "execution_count": 5,
      "outputs": [
        {
          "output_type": "execute_result",
          "data": {
            "text/html": [
              "<div>\n",
              "<style scoped>\n",
              "    .dataframe tbody tr th:only-of-type {\n",
              "        vertical-align: middle;\n",
              "    }\n",
              "\n",
              "    .dataframe tbody tr th {\n",
              "        vertical-align: top;\n",
              "    }\n",
              "\n",
              "    .dataframe thead th {\n",
              "        text-align: right;\n",
              "    }\n",
              "</style>\n",
              "<table border=\"1\" class=\"dataframe\">\n",
              "  <thead>\n",
              "    <tr style=\"text-align: right;\">\n",
              "      <th></th>\n",
              "      <th>qid</th>\n",
              "      <th>question_text</th>\n",
              "      <th>target</th>\n",
              "    </tr>\n",
              "  </thead>\n",
              "  <tbody>\n",
              "    <tr>\n",
              "      <th>0</th>\n",
              "      <td>00002165364db923c7e6</td>\n",
              "      <td>How did Quebec nationalists see their province...</td>\n",
              "      <td>0</td>\n",
              "    </tr>\n",
              "    <tr>\n",
              "      <th>1</th>\n",
              "      <td>000032939017120e6e44</td>\n",
              "      <td>Do you have an adopted dog, how would you enco...</td>\n",
              "      <td>0</td>\n",
              "    </tr>\n",
              "    <tr>\n",
              "      <th>2</th>\n",
              "      <td>0000412ca6e4628ce2cf</td>\n",
              "      <td>Why does velocity affect time? Does velocity a...</td>\n",
              "      <td>0</td>\n",
              "    </tr>\n",
              "    <tr>\n",
              "      <th>3</th>\n",
              "      <td>000042bf85aa498cd78e</td>\n",
              "      <td>How did Otto von Guericke used the Magdeburg h...</td>\n",
              "      <td>0</td>\n",
              "    </tr>\n",
              "    <tr>\n",
              "      <th>4</th>\n",
              "      <td>0000455dfa3e01eae3af</td>\n",
              "      <td>Can I convert montra helicon D to a mountain b...</td>\n",
              "      <td>0</td>\n",
              "    </tr>\n",
              "  </tbody>\n",
              "</table>\n",
              "</div>"
            ],
            "text/plain": [
              "                    qid  ... target\n",
              "0  00002165364db923c7e6  ...      0\n",
              "1  000032939017120e6e44  ...      0\n",
              "2  0000412ca6e4628ce2cf  ...      0\n",
              "3  000042bf85aa498cd78e  ...      0\n",
              "4  0000455dfa3e01eae3af  ...      0\n",
              "\n",
              "[5 rows x 3 columns]"
            ]
          },
          "metadata": {
            "tags": []
          },
          "execution_count": 5
        }
      ]
    },
    {
      "cell_type": "code",
      "metadata": {
        "id": "PVvUmx6pe6BT"
      },
      "source": [
        "data.drop([\"qid\"],axis=1,inplace=True)"
      ],
      "execution_count": 6,
      "outputs": []
    },
    {
      "cell_type": "code",
      "metadata": {
        "colab": {
          "base_uri": "https://localhost:8080/",
          "height": 203
        },
        "id": "x0oyLjSLe91P",
        "outputId": "b6008afe-d813-439a-c8b2-0b7c1a1cdfca"
      },
      "source": [
        "data.head()"
      ],
      "execution_count": 7,
      "outputs": [
        {
          "output_type": "execute_result",
          "data": {
            "text/html": [
              "<div>\n",
              "<style scoped>\n",
              "    .dataframe tbody tr th:only-of-type {\n",
              "        vertical-align: middle;\n",
              "    }\n",
              "\n",
              "    .dataframe tbody tr th {\n",
              "        vertical-align: top;\n",
              "    }\n",
              "\n",
              "    .dataframe thead th {\n",
              "        text-align: right;\n",
              "    }\n",
              "</style>\n",
              "<table border=\"1\" class=\"dataframe\">\n",
              "  <thead>\n",
              "    <tr style=\"text-align: right;\">\n",
              "      <th></th>\n",
              "      <th>question_text</th>\n",
              "      <th>target</th>\n",
              "    </tr>\n",
              "  </thead>\n",
              "  <tbody>\n",
              "    <tr>\n",
              "      <th>0</th>\n",
              "      <td>How did Quebec nationalists see their province...</td>\n",
              "      <td>0</td>\n",
              "    </tr>\n",
              "    <tr>\n",
              "      <th>1</th>\n",
              "      <td>Do you have an adopted dog, how would you enco...</td>\n",
              "      <td>0</td>\n",
              "    </tr>\n",
              "    <tr>\n",
              "      <th>2</th>\n",
              "      <td>Why does velocity affect time? Does velocity a...</td>\n",
              "      <td>0</td>\n",
              "    </tr>\n",
              "    <tr>\n",
              "      <th>3</th>\n",
              "      <td>How did Otto von Guericke used the Magdeburg h...</td>\n",
              "      <td>0</td>\n",
              "    </tr>\n",
              "    <tr>\n",
              "      <th>4</th>\n",
              "      <td>Can I convert montra helicon D to a mountain b...</td>\n",
              "      <td>0</td>\n",
              "    </tr>\n",
              "  </tbody>\n",
              "</table>\n",
              "</div>"
            ],
            "text/plain": [
              "                                       question_text  target\n",
              "0  How did Quebec nationalists see their province...       0\n",
              "1  Do you have an adopted dog, how would you enco...       0\n",
              "2  Why does velocity affect time? Does velocity a...       0\n",
              "3  How did Otto von Guericke used the Magdeburg h...       0\n",
              "4  Can I convert montra helicon D to a mountain b...       0"
            ]
          },
          "metadata": {
            "tags": []
          },
          "execution_count": 7
        }
      ]
    },
    {
      "cell_type": "code",
      "metadata": {
        "colab": {
          "base_uri": "https://localhost:8080/"
        },
        "id": "FcQqwgP4fAqH",
        "outputId": "16b058ed-e3ad-41af-f70a-24cf425d247e"
      },
      "source": [
        "!wget http://nlp.stanford.edu/data/glove.42B.300d.zip"
      ],
      "execution_count": 8,
      "outputs": [
        {
          "output_type": "stream",
          "text": [
            "--2021-07-13 08:37:26--  http://nlp.stanford.edu/data/glove.42B.300d.zip\n",
            "Resolving nlp.stanford.edu (nlp.stanford.edu)... 171.64.67.140\n",
            "Connecting to nlp.stanford.edu (nlp.stanford.edu)|171.64.67.140|:80... connected.\n",
            "HTTP request sent, awaiting response... 302 Found\n",
            "Location: https://nlp.stanford.edu/data/glove.42B.300d.zip [following]\n",
            "--2021-07-13 08:37:26--  https://nlp.stanford.edu/data/glove.42B.300d.zip\n",
            "Connecting to nlp.stanford.edu (nlp.stanford.edu)|171.64.67.140|:443... connected.\n",
            "HTTP request sent, awaiting response... 301 Moved Permanently\n",
            "Location: http://downloads.cs.stanford.edu/nlp/data/glove.42B.300d.zip [following]\n",
            "--2021-07-13 08:37:26--  http://downloads.cs.stanford.edu/nlp/data/glove.42B.300d.zip\n",
            "Resolving downloads.cs.stanford.edu (downloads.cs.stanford.edu)... 171.64.64.22\n",
            "Connecting to downloads.cs.stanford.edu (downloads.cs.stanford.edu)|171.64.64.22|:80... connected.\n",
            "HTTP request sent, awaiting response... 200 OK\n",
            "Length: 1877800501 (1.7G) [application/zip]\n",
            "Saving to: ‘glove.42B.300d.zip’\n",
            "\n",
            "glove.42B.300d.zip  100%[===================>]   1.75G  5.11MB/s    in 5m 53s  \n",
            "\n",
            "2021-07-13 08:43:19 (5.07 MB/s) - ‘glove.42B.300d.zip’ saved [1877800501/1877800501]\n",
            "\n"
          ],
          "name": "stdout"
        }
      ]
    },
    {
      "cell_type": "code",
      "metadata": {
        "colab": {
          "base_uri": "https://localhost:8080/"
        },
        "id": "93a8a-mzfFyi",
        "outputId": "584618f0-db7b-469e-c06c-3dc49bdd70ee"
      },
      "source": [
        "!unzip /content/glove.42B.300d.zip"
      ],
      "execution_count": 9,
      "outputs": [
        {
          "output_type": "stream",
          "text": [
            "Archive:  /content/glove.42B.300d.zip\n",
            "  inflating: glove.42B.300d.txt      \n"
          ],
          "name": "stdout"
        }
      ]
    },
    {
      "cell_type": "code",
      "metadata": {
        "id": "0FSCfvofgji5"
      },
      "source": [
        "!rm /content/glove.42B.300d.zip"
      ],
      "execution_count": 10,
      "outputs": []
    },
    {
      "cell_type": "code",
      "metadata": {
        "id": "REIs2XPUg-IL"
      },
      "source": [
        "embeding_index={}\n",
        "\n",
        "f=open('glove.42B.300d.txt',encoding='utf-8')\n",
        "\n",
        "for line in f:\n",
        "    values=line.split()\n",
        "    word=values[0]\n",
        "    coefs=np.asarray(values[1:],dtype='float32')\n",
        "    embeding_index[word]=coefs\n",
        "f.close()"
      ],
      "execution_count": 11,
      "outputs": []
    },
    {
      "cell_type": "code",
      "metadata": {
        "id": "6B0ul2l6hEly"
      },
      "source": [
        "from sklearn.model_selection import train_test_split\n",
        "data_train,data_test=train_test_split(data,test_size=0.2)"
      ],
      "execution_count": 12,
      "outputs": []
    },
    {
      "cell_type": "code",
      "metadata": {
        "id": "NTvGALF4hygY"
      },
      "source": [
        "x_train=data_train['question_text']\n",
        "y_train=data_train['target']\n",
        "x_test=data_test['question_text']\n",
        "y_test=data_test['target']"
      ],
      "execution_count": 13,
      "outputs": []
    },
    {
      "cell_type": "code",
      "metadata": {
        "id": "IlgcoDPBh7k3"
      },
      "source": [
        "from tensorflow.keras.preprocessing.text import Tokenizer\n",
        "from tensorflow.keras.preprocessing import sequence\n",
        "from tensorflow.keras.layers import LSTM,Activation,Dense,Input,Embedding,Dropout\n",
        "from tensorflow.keras.models import Model"
      ],
      "execution_count": 14,
      "outputs": []
    },
    {
      "cell_type": "code",
      "metadata": {
        "id": "w1b4Tqykh-sk"
      },
      "source": [
        "from nltk import word_tokenize"
      ],
      "execution_count": 15,
      "outputs": []
    },
    {
      "cell_type": "code",
      "metadata": {
        "colab": {
          "base_uri": "https://localhost:8080/"
        },
        "id": "Wbk_xSPHiBkE",
        "outputId": "d211416b-2725-4b57-a055-fc9bc59b93f3"
      },
      "source": [
        "import nltk\n",
        "nltk.download('punkt')"
      ],
      "execution_count": 16,
      "outputs": [
        {
          "output_type": "stream",
          "text": [
            "[nltk_data] Downloading package punkt to /root/nltk_data...\n",
            "[nltk_data]   Unzipping tokenizers/punkt.zip.\n"
          ],
          "name": "stdout"
        },
        {
          "output_type": "execute_result",
          "data": {
            "text/plain": [
              "True"
            ]
          },
          "metadata": {
            "tags": []
          },
          "execution_count": 16
        }
      ]
    },
    {
      "cell_type": "code",
      "metadata": {
        "id": "x5Fjb8g9iF8F"
      },
      "source": [
        "sent_lens=[len(word_tokenize(x)) for x in x_train]"
      ],
      "execution_count": 17,
      "outputs": []
    },
    {
      "cell_type": "code",
      "metadata": {
        "colab": {
          "base_uri": "https://localhost:8080/"
        },
        "id": "xjb5HXu1iJiJ",
        "outputId": "366ad9af-78a6-4457-ab29-9383ace172bf"
      },
      "source": [
        "np.percentile(sent_lens,95)"
      ],
      "execution_count": 18,
      "outputs": [
        {
          "output_type": "execute_result",
          "data": {
            "text/plain": [
              "30.0"
            ]
          },
          "metadata": {
            "tags": []
          },
          "execution_count": 18
        }
      ]
    },
    {
      "cell_type": "code",
      "metadata": {
        "id": "eiGMAKhvi1f-"
      },
      "source": [
        "max_len=30\n",
        "\n",
        "tk=Tokenizer(char_level=False,split=' ')\n",
        "\n",
        "tk.fit_on_texts(x_train)\n",
        "\n",
        "seq_train=tk.texts_to_sequences(x_train)\n",
        "seq_test=tk.texts_to_sequences(x_test)\n",
        "\n",
        "vocab_size=len(tk.word_index)\n",
        "\n",
        "seq_train_matrix=sequence.pad_sequences(seq_train,maxlen=max_len)\n",
        "seq_test_matrix=sequence.pad_sequences(seq_test,maxlen=max_len)"
      ],
      "execution_count": 19,
      "outputs": []
    },
    {
      "cell_type": "code",
      "metadata": {
        "id": "LyUSdHCvi7Jy"
      },
      "source": [
        "embedding_matrix=np.zeros((vocab_size+1,300))\n",
        "words_not_available=0\n",
        "for word,i in tk.word_index.items():\n",
        "    embed_vector=embeding_index.get(word)\n",
        "    if embed_vector is not None:\n",
        "        embedding_matrix[i]=embed_vector\n",
        "    else:\n",
        "      words_not_available+=1"
      ],
      "execution_count": 20,
      "outputs": []
    },
    {
      "cell_type": "code",
      "metadata": {
        "colab": {
          "base_uri": "https://localhost:8080/"
        },
        "id": "-h1G9P3hjJRi",
        "outputId": "ef428700-e830-4169-9199-a00ad374ccdc"
      },
      "source": [
        "words_not_available"
      ],
      "execution_count": 21,
      "outputs": [
        {
          "output_type": "execute_result",
          "data": {
            "text/plain": [
              "62232"
            ]
          },
          "metadata": {
            "tags": []
          },
          "execution_count": 21
        }
      ]
    },
    {
      "cell_type": "code",
      "metadata": {
        "colab": {
          "base_uri": "https://localhost:8080/"
        },
        "id": "cQxszEuPjMXB",
        "outputId": "3a83f8a2-ee09-4493-e4b2-79e08c2d50a4"
      },
      "source": [
        "vocab_size"
      ],
      "execution_count": 22,
      "outputs": [
        {
          "output_type": "execute_result",
          "data": {
            "text/plain": [
              "196379"
            ]
          },
          "metadata": {
            "tags": []
          },
          "execution_count": 22
        }
      ]
    },
    {
      "cell_type": "code",
      "metadata": {
        "id": "RoPgTzPujPCo"
      },
      "source": [
        "inputs=Input(name='text_input',shape=[max_len])\n",
        "embed=Embedding(vocab_size+1,300,input_length=max_len,mask_zero=True,\n",
        "                weights=[embedding_matrix],trainable=False)(inputs)\n",
        "lstm_layer=LSTM(50)(embed)\n",
        "dense1=Dense(10,activation='relu')(lstm_layer)\n",
        "drop=Dropout(0.2)(dense1)\n",
        "final_layer=Dense(1,activation='sigmoid')(drop)\n",
        "\n",
        "model=Model(inputs=inputs,outputs=final_layer)"
      ],
      "execution_count": 23,
      "outputs": []
    },
    {
      "cell_type": "code",
      "metadata": {
        "colab": {
          "base_uri": "https://localhost:8080/"
        },
        "id": "JYkh1qS-jSpT",
        "outputId": "dbeab7ee-bc92-4430-dc64-dd9f7648fc6c"
      },
      "source": [
        "model.summary()"
      ],
      "execution_count": 24,
      "outputs": [
        {
          "output_type": "stream",
          "text": [
            "Model: \"model\"\n",
            "_________________________________________________________________\n",
            "Layer (type)                 Output Shape              Param #   \n",
            "=================================================================\n",
            "text_input (InputLayer)      [(None, 30)]              0         \n",
            "_________________________________________________________________\n",
            "embedding (Embedding)        (None, 30, 300)           58914000  \n",
            "_________________________________________________________________\n",
            "lstm (LSTM)                  (None, 50)                70200     \n",
            "_________________________________________________________________\n",
            "dense (Dense)                (None, 10)                510       \n",
            "_________________________________________________________________\n",
            "dropout (Dropout)            (None, 10)                0         \n",
            "_________________________________________________________________\n",
            "dense_1 (Dense)              (None, 1)                 11        \n",
            "=================================================================\n",
            "Total params: 58,984,721\n",
            "Trainable params: 70,721\n",
            "Non-trainable params: 58,914,000\n",
            "_________________________________________________________________\n"
          ],
          "name": "stdout"
        }
      ]
    },
    {
      "cell_type": "code",
      "metadata": {
        "id": "KlMhpijRjWOn"
      },
      "source": [
        "model.compile(optimizer='adam',loss='binary_crossentropy',metrics=['accuracy'])"
      ],
      "execution_count": 25,
      "outputs": []
    },
    {
      "cell_type": "code",
      "metadata": {
        "id": "xzmNLFiVjaWe"
      },
      "source": [
        "from sklearn.utils import class_weight\n",
        "cw = class_weight.compute_class_weight('balanced', \n",
        "                                                 np.unique(y_train), \n",
        "                                                    y_train)"
      ],
      "execution_count": 26,
      "outputs": []
    },
    {
      "cell_type": "code",
      "metadata": {
        "colab": {
          "base_uri": "https://localhost:8080/"
        },
        "id": "qekR0Q03jg7z",
        "outputId": "7c5c8ab7-c18b-425c-d54d-b3ffcf809472"
      },
      "source": [
        "class_weight_dict = dict(enumerate(cw))\n",
        "class_weight_dict"
      ],
      "execution_count": 27,
      "outputs": [
        {
          "output_type": "execute_result",
          "data": {
            "text/plain": [
              "{0: 0.5331221383315357, 1: 8.047821867586801}"
            ]
          },
          "metadata": {
            "tags": []
          },
          "execution_count": 27
        }
      ]
    },
    {
      "cell_type": "code",
      "metadata": {
        "colab": {
          "base_uri": "https://localhost:8080/"
        },
        "id": "3Zasnn5rjkSg",
        "outputId": "f0d941ba-dd43-4d78-8bb8-4574cb15f09b"
      },
      "source": [
        "model.fit(seq_train_matrix,y_train.values,validation_data=(seq_test_matrix,y_test.values),epochs=40,class_weight=class_weight_dict,\n",
        "          batch_size=30000)"
      ],
      "execution_count": 28,
      "outputs": [
        {
          "output_type": "stream",
          "text": [
            "WARNING:tensorflow:From /usr/local/lib/python3.7/dist-packages/tensorflow/python/ops/array_ops.py:5049: calling gather (from tensorflow.python.ops.array_ops) with validate_indices is deprecated and will be removed in a future version.\n",
            "Instructions for updating:\n",
            "The `validate_indices` argument has no effect. Indices are always validated on CPU and never validated on GPU.\n",
            "Epoch 1/40\n",
            "35/35 [==============================] - 328s 9s/step - loss: 0.5187 - accuracy: 0.6980 - val_loss: 0.3849 - val_accuracy: 0.8339\n",
            "Epoch 2/40\n",
            "35/35 [==============================] - 326s 9s/step - loss: 0.3426 - accuracy: 0.8564 - val_loss: 0.3189 - val_accuracy: 0.8652\n",
            "Epoch 3/40\n",
            "35/35 [==============================] - 322s 9s/step - loss: 0.3127 - accuracy: 0.8711 - val_loss: 0.2946 - val_accuracy: 0.8767\n",
            "Epoch 4/40\n",
            "35/35 [==============================] - 328s 9s/step - loss: 0.3001 - accuracy: 0.8744 - val_loss: 0.2917 - val_accuracy: 0.8767\n",
            "Epoch 5/40\n",
            "35/35 [==============================] - 329s 9s/step - loss: 0.2922 - accuracy: 0.8773 - val_loss: 0.3134 - val_accuracy: 0.8650\n",
            "Epoch 6/40\n",
            "35/35 [==============================] - 337s 10s/step - loss: 0.2867 - accuracy: 0.8781 - val_loss: 0.3098 - val_accuracy: 0.8668\n",
            "Epoch 7/40\n",
            "35/35 [==============================] - 328s 9s/step - loss: 0.2801 - accuracy: 0.8811 - val_loss: 0.2657 - val_accuracy: 0.8888\n",
            "Epoch 8/40\n",
            "35/35 [==============================] - 331s 9s/step - loss: 0.2747 - accuracy: 0.8825 - val_loss: 0.2712 - val_accuracy: 0.8849\n",
            "Epoch 9/40\n",
            "35/35 [==============================] - 327s 9s/step - loss: 0.2697 - accuracy: 0.8852 - val_loss: 0.2633 - val_accuracy: 0.8879\n",
            "Epoch 10/40\n",
            "35/35 [==============================] - 328s 9s/step - loss: 0.2659 - accuracy: 0.8860 - val_loss: 0.2731 - val_accuracy: 0.8833\n",
            "Epoch 11/40\n",
            "35/35 [==============================] - 323s 9s/step - loss: 0.2614 - accuracy: 0.8876 - val_loss: 0.2369 - val_accuracy: 0.9009\n",
            "Epoch 12/40\n",
            "35/35 [==============================] - 334s 10s/step - loss: 0.2574 - accuracy: 0.8890 - val_loss: 0.2287 - val_accuracy: 0.9024\n",
            "Epoch 13/40\n",
            "35/35 [==============================] - 329s 9s/step - loss: 0.2534 - accuracy: 0.8904 - val_loss: 0.2767 - val_accuracy: 0.8808\n",
            "Epoch 14/40\n",
            "35/35 [==============================] - 327s 9s/step - loss: 0.2526 - accuracy: 0.8896 - val_loss: 0.2328 - val_accuracy: 0.9022\n",
            "Epoch 15/40\n",
            "35/35 [==============================] - 332s 10s/step - loss: 0.2473 - accuracy: 0.8929 - val_loss: 0.2605 - val_accuracy: 0.8896\n",
            "Epoch 16/40\n",
            "35/35 [==============================] - 329s 9s/step - loss: 0.2453 - accuracy: 0.8924 - val_loss: 0.2463 - val_accuracy: 0.8956\n",
            "Epoch 17/40\n",
            "35/35 [==============================] - 333s 10s/step - loss: 0.2442 - accuracy: 0.8932 - val_loss: 0.2361 - val_accuracy: 0.8993\n",
            "Epoch 18/40\n",
            "35/35 [==============================] - 328s 9s/step - loss: 0.2390 - accuracy: 0.8947 - val_loss: 0.2473 - val_accuracy: 0.8944\n",
            "Epoch 19/40\n",
            "35/35 [==============================] - 336s 10s/step - loss: 0.2372 - accuracy: 0.8954 - val_loss: 0.2180 - val_accuracy: 0.9066\n",
            "Epoch 20/40\n",
            "35/35 [==============================] - 332s 10s/step - loss: 0.2350 - accuracy: 0.8948 - val_loss: 0.2183 - val_accuracy: 0.9077\n",
            "Epoch 21/40\n",
            "35/35 [==============================] - 340s 10s/step - loss: 0.2332 - accuracy: 0.8958 - val_loss: 0.1993 - val_accuracy: 0.9155\n",
            "Epoch 22/40\n",
            "35/35 [==============================] - 335s 10s/step - loss: 0.2308 - accuracy: 0.8965 - val_loss: 0.2300 - val_accuracy: 0.9014\n",
            "Epoch 23/40\n",
            "35/35 [==============================] - 341s 10s/step - loss: 0.2272 - accuracy: 0.8978 - val_loss: 0.2323 - val_accuracy: 0.9003\n",
            "Epoch 24/40\n",
            "35/35 [==============================] - 342s 10s/step - loss: 0.2251 - accuracy: 0.8979 - val_loss: 0.2029 - val_accuracy: 0.9137\n",
            "Epoch 25/40\n",
            "35/35 [==============================] - 340s 10s/step - loss: 0.2245 - accuracy: 0.8985 - val_loss: 0.2455 - val_accuracy: 0.8952\n",
            "Epoch 26/40\n",
            "35/35 [==============================] - 345s 10s/step - loss: 0.2212 - accuracy: 0.8990 - val_loss: 0.2412 - val_accuracy: 0.8945\n",
            "Epoch 27/40\n",
            "35/35 [==============================] - 334s 10s/step - loss: 0.2196 - accuracy: 0.8991 - val_loss: 0.2178 - val_accuracy: 0.9060\n",
            "Epoch 28/40\n",
            "35/35 [==============================] - 339s 10s/step - loss: 0.2166 - accuracy: 0.9005 - val_loss: 0.2306 - val_accuracy: 0.9001\n",
            "Epoch 29/40\n",
            "35/35 [==============================] - 335s 10s/step - loss: 0.2171 - accuracy: 0.8992 - val_loss: 0.1987 - val_accuracy: 0.9140\n",
            "Epoch 30/40\n",
            "35/35 [==============================] - 336s 10s/step - loss: 0.2154 - accuracy: 0.8999 - val_loss: 0.2639 - val_accuracy: 0.8856\n",
            "Epoch 31/40\n",
            "35/35 [==============================] - 334s 10s/step - loss: 0.2114 - accuracy: 0.9010 - val_loss: 0.2405 - val_accuracy: 0.8969\n",
            "Epoch 32/40\n",
            "35/35 [==============================] - 338s 10s/step - loss: 0.2127 - accuracy: 0.8996 - val_loss: 0.2281 - val_accuracy: 0.9026\n",
            "Epoch 33/40\n",
            "35/35 [==============================] - 337s 10s/step - loss: 0.2075 - accuracy: 0.9024 - val_loss: 0.2286 - val_accuracy: 0.9015\n",
            "Epoch 34/40\n",
            "35/35 [==============================] - 335s 10s/step - loss: 0.2056 - accuracy: 0.9026 - val_loss: 0.1944 - val_accuracy: 0.9166\n",
            "Epoch 35/40\n",
            "35/35 [==============================] - 342s 10s/step - loss: 0.2036 - accuracy: 0.9032 - val_loss: 0.2467 - val_accuracy: 0.8921\n",
            "Epoch 36/40\n",
            "35/35 [==============================] - 339s 10s/step - loss: 0.2029 - accuracy: 0.9027 - val_loss: 0.2333 - val_accuracy: 0.8980\n",
            "Epoch 37/40\n",
            "35/35 [==============================] - 343s 10s/step - loss: 0.1991 - accuracy: 0.9040 - val_loss: 0.2295 - val_accuracy: 0.8997\n",
            "Epoch 38/40\n",
            "35/35 [==============================] - 338s 10s/step - loss: 0.2011 - accuracy: 0.9026 - val_loss: 0.2885 - val_accuracy: 0.8686\n",
            "Epoch 39/40\n",
            "35/35 [==============================] - 342s 10s/step - loss: 0.2025 - accuracy: 0.9007 - val_loss: 0.2438 - val_accuracy: 0.8916\n",
            "Epoch 40/40\n",
            "35/35 [==============================] - 338s 10s/step - loss: 0.1955 - accuracy: 0.9049 - val_loss: 0.2405 - val_accuracy: 0.8958\n"
          ],
          "name": "stdout"
        },
        {
          "output_type": "execute_result",
          "data": {
            "text/plain": [
              "<tensorflow.python.keras.callbacks.History at 0x7fa7c35be310>"
            ]
          },
          "metadata": {
            "tags": []
          },
          "execution_count": 28
        }
      ]
    },
    {
      "cell_type": "code",
      "metadata": {
        "id": "Ce-VvBi9jpMy"
      },
      "source": [
        "p=model.predict(seq_test_matrix)"
      ],
      "execution_count": 29,
      "outputs": []
    },
    {
      "cell_type": "code",
      "metadata": {
        "id": "CyGhpZXDxgAv",
        "colab": {
          "base_uri": "https://localhost:8080/"
        },
        "outputId": "2e8070f8-ef9e-4832-e4cd-3f4bf60cf42b"
      },
      "source": [
        "from sklearn.metrics import roc_auc_score\n",
        "roc_auc_score(y_test,p)"
      ],
      "execution_count": 30,
      "outputs": [
        {
          "output_type": "execute_result",
          "data": {
            "text/plain": [
              "0.9588367266098867"
            ]
          },
          "metadata": {
            "tags": []
          },
          "execution_count": 30
        }
      ]
    },
    {
      "cell_type": "code",
      "metadata": {
        "id": "WrzqhSvy4GTE"
      },
      "source": [
        ""
      ],
      "execution_count": null,
      "outputs": []
    }
  ]
}